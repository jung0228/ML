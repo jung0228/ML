{
  "nbformat": 4,
  "nbformat_minor": 0,
  "metadata": {
    "colab": {
      "name": "질문봇.ipynb",
      "provenance": [],
      "collapsed_sections": [],
      "authorship_tag": "ABX9TyPeCVeIxY+64DYS2ncUT4J3",
      "include_colab_link": true
    },
    "kernelspec": {
      "name": "python3",
      "display_name": "Python 3"
    },
    "language_info": {
      "name": "python"
    }
  },
  "cells": [
    {
      "cell_type": "markdown",
      "metadata": {
        "id": "view-in-github",
        "colab_type": "text"
      },
      "source": [
        "<a href=\"https://colab.research.google.com/github/jung0228/ML/blob/main/%EC%A7%88%EB%AC%B8%EB%B4%87.ipynb\" target=\"_parent\"><img src=\"https://colab.research.google.com/assets/colab-badge.svg\" alt=\"Open In Colab\"/></a>"
      ]
    },
    {
      "cell_type": "code",
      "source": [
        "Event = input(\"오늘 어떤 일이 있었어? : \")"
      ],
      "metadata": {
        "colab": {
          "base_uri": "https://localhost:8080/"
        },
        "id": "5C1ePte-ROvi",
        "outputId": "db046b95-d611-48ac-ee1b-291ee6e03487"
      },
      "execution_count": 1,
      "outputs": [
        {
          "name": "stdout",
          "output_type": "stream",
          "text": [
            "오늘 어떤 일이 있었어? : 누구가 카톡을 씹었다\n"
          ]
        }
      ]
    },
    {
      "cell_type": "code",
      "source": [
        "Thinking = input(\"흠... 어떤 생각이 들었어? : \")"
      ],
      "metadata": {
        "colab": {
          "base_uri": "https://localhost:8080/"
        },
        "id": "Qe58HnxhRZMq",
        "outputId": "c45f80c6-3cb4-4b87-991e-464669589bb3"
      },
      "execution_count": 3,
      "outputs": [
        {
          "name": "stdout",
          "output_type": "stream",
          "text": [
            "흠... 어떤 생각이 들었어? : 무시하나?\n"
          ]
        }
      ]
    },
    {
      "cell_type": "code",
      "source": [
        "Emotion = input(\"어떤 감정이 들었어? : \")"
      ],
      "metadata": {
        "colab": {
          "base_uri": "https://localhost:8080/"
        },
        "id": "EKa1a2VMRhvS",
        "outputId": "780849f9-a560-479a-85ce-db607efb7a7b"
      },
      "execution_count": 4,
      "outputs": [
        {
          "name": "stdout",
          "output_type": "stream",
          "text": [
            "어떤 감정이 들었어? : 짜증났다\n"
          ]
        }
      ]
    },
    {
      "cell_type": "code",
      "source": [
        "Action = input(\"어떻게 행동했는데? : \")"
      ],
      "metadata": {
        "colab": {
          "base_uri": "https://localhost:8080/"
        },
        "id": "nW_05ATTRu6s",
        "outputId": "087396fa-b060-4027-cf0b-e60dd7865d8b"
      },
      "execution_count": 5,
      "outputs": [
        {
          "name": "stdout",
          "output_type": "stream",
          "text": [
            "어떻게 행동했는데? : 신경 안썼다\n"
          ]
        }
      ]
    },
    {
      "cell_type": "code",
      "source": [
        "Result = input(\"그래서 마지막엔 어떻게 됐어? : \")"
      ],
      "metadata": {
        "colab": {
          "base_uri": "https://localhost:8080/"
        },
        "id": "wX6imrtER6Gr",
        "outputId": "550dbb1b-2732-454f-82b4-1f5e60acbc0d"
      },
      "execution_count": 6,
      "outputs": [
        {
          "name": "stdout",
          "output_type": "stream",
          "text": [
            "그래서 마지막엔 어떻게 됐어? : 좀 더 신경 쓸 걸 그랬나?\n"
          ]
        }
      ]
    },
    {
      "cell_type": "code",
      "source": [
        "Future = input(\"앞으론 어떻게 할거야? : \")"
      ],
      "metadata": {
        "colab": {
          "base_uri": "https://localhost:8080/"
        },
        "id": "B9o-EEeBTf1g",
        "outputId": "685e98cb-c00b-40be-8e02-327baa5da203"
      },
      "execution_count": 7,
      "outputs": [
        {
          "name": "stdout",
          "output_type": "stream",
          "text": [
            "앞으론 어떻게 할거야? : 다음엔 참을성 있게 기다려야지\n"
          ]
        }
      ]
    },
    {
      "cell_type": "code",
      "source": [
        "print(\"오늘은 \" + Event)\n",
        "print(Thinking + \" 생각이 들었다.\")\n",
        "print(Emotion + \" 나는 이러한 감정을 느꼈다.\")\n",
        "print(\"나는 이렇게 행동했다. \"+ Action)\n",
        "print(\"결과적으로, \"+ Result)\n",
        "print(Future)\n"
      ],
      "metadata": {
        "colab": {
          "base_uri": "https://localhost:8080/"
        },
        "id": "b2_x3kM6SLvV",
        "outputId": "73d5c86c-2830-47bc-c1a8-2de1b618b9e8"
      },
      "execution_count": 9,
      "outputs": [
        {
          "output_type": "stream",
          "name": "stdout",
          "text": [
            "오늘은 누구가 카톡을 씹었다\n",
            "무시하나? 생각이 들었다.\n",
            "짜증났다 나는 이러한 감정을 느꼈다.\n",
            "나는 이렇게 행동했다. 신경 안썼다\n",
            "결과적으로, 좀 더 신경 쓸 걸 그랬나?\n",
            "다음엔 참을성 있게 기다려야지\n"
          ]
        }
      ]
    },
    {
      "cell_type": "code",
      "source": [
        ""
      ],
      "metadata": {
        "id": "FbbE98Q9SVSF"
      },
      "execution_count": null,
      "outputs": []
    }
  ]
}