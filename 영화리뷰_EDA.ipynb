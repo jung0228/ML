{
  "nbformat": 4,
  "nbformat_minor": 0,
  "metadata": {
    "colab": {
      "name": "영화리뷰_EDA.ipynb",
      "provenance": [],
      "collapsed_sections": [
        "xWkIjieW-8SA",
        "L8FKc_sc_NNk",
        "0wUm2ESmOfIg",
        "iYJv7wRcJZf_",
        "eUdnXoKxJ7rN",
        "v4Hfiz68O6Id"
      ],
      "authorship_tag": "ABX9TyM6NoEYnBMSdgzXDRF+Ph7R",
      "include_colab_link": true
    },
    "kernelspec": {
      "name": "python3",
      "display_name": "Python 3"
    },
    "language_info": {
      "name": "python"
    }
  },
  "cells": [
    {
      "cell_type": "markdown",
      "metadata": {
        "id": "view-in-github",
        "colab_type": "text"
      },
      "source": [
        "<a href=\"https://colab.research.google.com/github/jung0228/ML/blob/main/%EC%98%81%ED%99%94%EB%A6%AC%EB%B7%B0_EDA.ipynb\" target=\"_parent\"><img src=\"https://colab.research.google.com/assets/colab-badge.svg\" alt=\"Open In Colab\"/></a>"
      ]
    },
    {
      "cell_type": "markdown",
      "source": [
        "# ***선행작업***"
      ],
      "metadata": {
        "id": "xWkIjieW-8SA"
      }
    },
    {
      "cell_type": "code",
      "source": [
        "!pip install konlpy\n",
        "!pip install collections\n",
        "!pip install wordcloud\n",
        "!pip install sweetviz\n"
      ],
      "metadata": {
        "colab": {
          "base_uri": "https://localhost:8080/"
        },
        "id": "j_AcYqw299aD",
        "outputId": "30b98134-23b6-475d-ebe9-5ffcfa55ae2f"
      },
      "execution_count": 2,
      "outputs": [
        {
          "output_type": "stream",
          "name": "stdout",
          "text": [
            "Collecting konlpy\n",
            "  Downloading konlpy-0.6.0-py2.py3-none-any.whl (19.4 MB)\n",
            "\u001b[K     |████████████████████████████████| 19.4 MB 446 kB/s \n",
            "\u001b[?25hCollecting JPype1>=0.7.0\n",
            "  Downloading JPype1-1.3.0-cp37-cp37m-manylinux_2_5_x86_64.manylinux1_x86_64.whl (448 kB)\n",
            "\u001b[K     |████████████████████████████████| 448 kB 47.2 MB/s \n",
            "\u001b[?25hRequirement already satisfied: lxml>=4.1.0 in /usr/local/lib/python3.7/dist-packages (from konlpy) (4.2.6)\n",
            "Requirement already satisfied: numpy>=1.6 in /usr/local/lib/python3.7/dist-packages (from konlpy) (1.19.5)\n",
            "Requirement already satisfied: typing-extensions in /usr/local/lib/python3.7/dist-packages (from JPype1>=0.7.0->konlpy) (3.10.0.2)\n",
            "Installing collected packages: JPype1, konlpy\n",
            "Successfully installed JPype1-1.3.0 konlpy-0.6.0\n",
            "\u001b[31mERROR: Could not find a version that satisfies the requirement collections (from versions: none)\u001b[0m\n",
            "\u001b[31mERROR: No matching distribution found for collections\u001b[0m\n",
            "Requirement already satisfied: wordcloud in /usr/local/lib/python3.7/dist-packages (1.5.0)\n",
            "Requirement already satisfied: pillow in /usr/local/lib/python3.7/dist-packages (from wordcloud) (7.1.2)\n",
            "Requirement already satisfied: numpy>=1.6.1 in /usr/local/lib/python3.7/dist-packages (from wordcloud) (1.19.5)\n",
            "Collecting sweetviz\n",
            "  Downloading sweetviz-2.1.3-py3-none-any.whl (15.1 MB)\n",
            "\u001b[K     |████████████████████████████████| 15.1 MB 4.5 MB/s \n",
            "\u001b[?25hRequirement already satisfied: pandas!=1.0.0,!=1.0.1,!=1.0.2,>=0.25.3 in /usr/local/lib/python3.7/dist-packages (from sweetviz) (1.1.5)\n",
            "Requirement already satisfied: tqdm>=4.43.0 in /usr/local/lib/python3.7/dist-packages (from sweetviz) (4.62.3)\n",
            "Requirement already satisfied: numpy>=1.16.0 in /usr/local/lib/python3.7/dist-packages (from sweetviz) (1.19.5)\n",
            "Requirement already satisfied: importlib-resources>=1.2.0 in /usr/local/lib/python3.7/dist-packages (from sweetviz) (5.4.0)\n",
            "Requirement already satisfied: jinja2>=2.11.1 in /usr/local/lib/python3.7/dist-packages (from sweetviz) (2.11.3)\n",
            "Requirement already satisfied: matplotlib>=3.1.3 in /usr/local/lib/python3.7/dist-packages (from sweetviz) (3.2.2)\n",
            "Requirement already satisfied: scipy>=1.3.2 in /usr/local/lib/python3.7/dist-packages (from sweetviz) (1.4.1)\n",
            "Requirement already satisfied: zipp>=3.1.0 in /usr/local/lib/python3.7/dist-packages (from importlib-resources>=1.2.0->sweetviz) (3.6.0)\n",
            "Requirement already satisfied: MarkupSafe>=0.23 in /usr/local/lib/python3.7/dist-packages (from jinja2>=2.11.1->sweetviz) (2.0.1)\n",
            "Requirement already satisfied: python-dateutil>=2.1 in /usr/local/lib/python3.7/dist-packages (from matplotlib>=3.1.3->sweetviz) (2.8.2)\n",
            "Requirement already satisfied: kiwisolver>=1.0.1 in /usr/local/lib/python3.7/dist-packages (from matplotlib>=3.1.3->sweetviz) (1.3.2)\n",
            "Requirement already satisfied: pyparsing!=2.0.4,!=2.1.2,!=2.1.6,>=2.0.1 in /usr/local/lib/python3.7/dist-packages (from matplotlib>=3.1.3->sweetviz) (3.0.6)\n",
            "Requirement already satisfied: cycler>=0.10 in /usr/local/lib/python3.7/dist-packages (from matplotlib>=3.1.3->sweetviz) (0.11.0)\n",
            "Requirement already satisfied: pytz>=2017.2 in /usr/local/lib/python3.7/dist-packages (from pandas!=1.0.0,!=1.0.1,!=1.0.2,>=0.25.3->sweetviz) (2018.9)\n",
            "Requirement already satisfied: six>=1.5 in /usr/local/lib/python3.7/dist-packages (from python-dateutil>=2.1->matplotlib>=3.1.3->sweetviz) (1.15.0)\n",
            "Installing collected packages: sweetviz\n",
            "Successfully installed sweetviz-2.1.3\n"
          ]
        }
      ]
    },
    {
      "cell_type": "code",
      "execution_count": 4,
      "metadata": {
        "colab": {
          "base_uri": "https://localhost:8080/",
          "height": 423
        },
        "id": "9FQRkZxZ9yQK",
        "outputId": "2c320554-8c48-4258-9512-46e8f1b3b485"
      },
      "outputs": [
        {
          "output_type": "execute_result",
          "data": {
            "text/html": [
              "\n",
              "  <div id=\"df-bb7c12bd-76f1-4b71-b75e-bb6bf991364b\">\n",
              "    <div class=\"colab-df-container\">\n",
              "      <div>\n",
              "<style scoped>\n",
              "    .dataframe tbody tr th:only-of-type {\n",
              "        vertical-align: middle;\n",
              "    }\n",
              "\n",
              "    .dataframe tbody tr th {\n",
              "        vertical-align: top;\n",
              "    }\n",
              "\n",
              "    .dataframe thead th {\n",
              "        text-align: right;\n",
              "    }\n",
              "</style>\n",
              "<table border=\"1\" class=\"dataframe\">\n",
              "  <thead>\n",
              "    <tr style=\"text-align: right;\">\n",
              "      <th></th>\n",
              "      <th>id</th>\n",
              "      <th>document</th>\n",
              "      <th>label</th>\n",
              "    </tr>\n",
              "  </thead>\n",
              "  <tbody>\n",
              "    <tr>\n",
              "      <th>20</th>\n",
              "      <td>21</td>\n",
              "      <td>처절한 영화, 슬픈 영화, 씁쓸-한 영화...</td>\n",
              "      <td>1</td>\n",
              "    </tr>\n",
              "    <tr>\n",
              "      <th>21</th>\n",
              "      <td>22</td>\n",
              "      <td>처음부터 끝까지 유치 하기 그지 없다....난해한 영화</td>\n",
              "      <td>0</td>\n",
              "    </tr>\n",
              "    <tr>\n",
              "      <th>22</th>\n",
              "      <td>23</td>\n",
              "      <td>전쟁? 아이들의 목소리가 참 거슬린다.</td>\n",
              "      <td>0</td>\n",
              "    </tr>\n",
              "    <tr>\n",
              "      <th>23</th>\n",
              "      <td>24</td>\n",
              "      <td>멋진 상상력! 아름다운 영화. 여배우 소이의 재발견!</td>\n",
              "      <td>1</td>\n",
              "    </tr>\n",
              "    <tr>\n",
              "      <th>24</th>\n",
              "      <td>25</td>\n",
              "      <td>그 시대엔 이 영화가 최고였음</td>\n",
              "      <td>1</td>\n",
              "    </tr>\n",
              "    <tr>\n",
              "      <th>...</th>\n",
              "      <td>...</td>\n",
              "      <td>...</td>\n",
              "      <td>...</td>\n",
              "    </tr>\n",
              "    <tr>\n",
              "      <th>95</th>\n",
              "      <td>96</td>\n",
              "      <td>표 값과 시간이 아까웠던 영화</td>\n",
              "      <td>0</td>\n",
              "    </tr>\n",
              "    <tr>\n",
              "      <th>96</th>\n",
              "      <td>97</td>\n",
              "      <td>쩌는 시나리오 쩌는 연기 환상의 소피아 결론은 제이미 벨 이 축복받은 놈</td>\n",
              "      <td>1</td>\n",
              "    </tr>\n",
              "    <tr>\n",
              "      <th>97</th>\n",
              "      <td>98</td>\n",
              "      <td>너무 기분좋게봣습니다~ 적극 추천!!</td>\n",
              "      <td>1</td>\n",
              "    </tr>\n",
              "    <tr>\n",
              "      <th>98</th>\n",
              "      <td>99</td>\n",
              "      <td>왜 그랬니? 피트 출현할 영화가 그렇게 없디?</td>\n",
              "      <td>0</td>\n",
              "    </tr>\n",
              "    <tr>\n",
              "      <th>99</th>\n",
              "      <td>100</td>\n",
              "      <td>내가 고등학생때 이 영화가 나왔는데 그때 봤더라면 ..</td>\n",
              "      <td>1</td>\n",
              "    </tr>\n",
              "  </tbody>\n",
              "</table>\n",
              "<p>80 rows × 3 columns</p>\n",
              "</div>\n",
              "      <button class=\"colab-df-convert\" onclick=\"convertToInteractive('df-bb7c12bd-76f1-4b71-b75e-bb6bf991364b')\"\n",
              "              title=\"Convert this dataframe to an interactive table.\"\n",
              "              style=\"display:none;\">\n",
              "        \n",
              "  <svg xmlns=\"http://www.w3.org/2000/svg\" height=\"24px\"viewBox=\"0 0 24 24\"\n",
              "       width=\"24px\">\n",
              "    <path d=\"M0 0h24v24H0V0z\" fill=\"none\"/>\n",
              "    <path d=\"M18.56 5.44l.94 2.06.94-2.06 2.06-.94-2.06-.94-.94-2.06-.94 2.06-2.06.94zm-11 1L8.5 8.5l.94-2.06 2.06-.94-2.06-.94L8.5 2.5l-.94 2.06-2.06.94zm10 10l.94 2.06.94-2.06 2.06-.94-2.06-.94-.94-2.06-.94 2.06-2.06.94z\"/><path d=\"M17.41 7.96l-1.37-1.37c-.4-.4-.92-.59-1.43-.59-.52 0-1.04.2-1.43.59L10.3 9.45l-7.72 7.72c-.78.78-.78 2.05 0 2.83L4 21.41c.39.39.9.59 1.41.59.51 0 1.02-.2 1.41-.59l7.78-7.78 2.81-2.81c.8-.78.8-2.07 0-2.86zM5.41 20L4 18.59l7.72-7.72 1.47 1.35L5.41 20z\"/>\n",
              "  </svg>\n",
              "      </button>\n",
              "      \n",
              "  <style>\n",
              "    .colab-df-container {\n",
              "      display:flex;\n",
              "      flex-wrap:wrap;\n",
              "      gap: 12px;\n",
              "    }\n",
              "\n",
              "    .colab-df-convert {\n",
              "      background-color: #E8F0FE;\n",
              "      border: none;\n",
              "      border-radius: 50%;\n",
              "      cursor: pointer;\n",
              "      display: none;\n",
              "      fill: #1967D2;\n",
              "      height: 32px;\n",
              "      padding: 0 0 0 0;\n",
              "      width: 32px;\n",
              "    }\n",
              "\n",
              "    .colab-df-convert:hover {\n",
              "      background-color: #E2EBFA;\n",
              "      box-shadow: 0px 1px 2px rgba(60, 64, 67, 0.3), 0px 1px 3px 1px rgba(60, 64, 67, 0.15);\n",
              "      fill: #174EA6;\n",
              "    }\n",
              "\n",
              "    [theme=dark] .colab-df-convert {\n",
              "      background-color: #3B4455;\n",
              "      fill: #D2E3FC;\n",
              "    }\n",
              "\n",
              "    [theme=dark] .colab-df-convert:hover {\n",
              "      background-color: #434B5C;\n",
              "      box-shadow: 0px 1px 3px 1px rgba(0, 0, 0, 0.15);\n",
              "      filter: drop-shadow(0px 1px 2px rgba(0, 0, 0, 0.3));\n",
              "      fill: #FFFFFF;\n",
              "    }\n",
              "  </style>\n",
              "\n",
              "      <script>\n",
              "        const buttonEl =\n",
              "          document.querySelector('#df-bb7c12bd-76f1-4b71-b75e-bb6bf991364b button.colab-df-convert');\n",
              "        buttonEl.style.display =\n",
              "          google.colab.kernel.accessAllowed ? 'block' : 'none';\n",
              "\n",
              "        async function convertToInteractive(key) {\n",
              "          const element = document.querySelector('#df-bb7c12bd-76f1-4b71-b75e-bb6bf991364b');\n",
              "          const dataTable =\n",
              "            await google.colab.kernel.invokeFunction('convertToInteractive',\n",
              "                                                     [key], {});\n",
              "          if (!dataTable) return;\n",
              "\n",
              "          const docLinkHtml = 'Like what you see? Visit the ' +\n",
              "            '<a target=\"_blank\" href=https://colab.research.google.com/notebooks/data_table.ipynb>data table notebook</a>'\n",
              "            + ' to learn more about interactive tables.';\n",
              "          element.innerHTML = '';\n",
              "          dataTable['output_type'] = 'display_data';\n",
              "          await google.colab.output.renderOutput(dataTable, element);\n",
              "          const docLink = document.createElement('div');\n",
              "          docLink.innerHTML = docLinkHtml;\n",
              "          element.appendChild(docLink);\n",
              "        }\n",
              "      </script>\n",
              "    </div>\n",
              "  </div>\n",
              "  "
            ],
            "text/plain": [
              "     id                                  document  label\n",
              "20   21                 처절한 영화, 슬픈 영화, 씁쓸-한 영화...      1\n",
              "21   22            처음부터 끝까지 유치 하기 그지 없다....난해한 영화      0\n",
              "22   23                     전쟁? 아이들의 목소리가 참 거슬린다.      0\n",
              "23   24             멋진 상상력! 아름다운 영화. 여배우 소이의 재발견!      1\n",
              "24   25                          그 시대엔 이 영화가 최고였음      1\n",
              "..  ...                                       ...    ...\n",
              "95   96                          표 값과 시간이 아까웠던 영화      0\n",
              "96   97  쩌는 시나리오 쩌는 연기 환상의 소피아 결론은 제이미 벨 이 축복받은 놈      1\n",
              "97   98                      너무 기분좋게봣습니다~ 적극 추천!!      1\n",
              "98   99                 왜 그랬니? 피트 출현할 영화가 그렇게 없디?      0\n",
              "99  100            내가 고등학생때 이 영화가 나왔는데 그때 봤더라면 ..      1\n",
              "\n",
              "[80 rows x 3 columns]"
            ]
          },
          "metadata": {},
          "execution_count": 4
        }
      ],
      "source": [
        "import pandas as pd \n",
        "import numpy as np\n",
        "import matplotlib.pyplot as plt\n",
        "%matplotlib inline \n",
        "import sys\n",
        "from konlpy.tag import Okt\n",
        "from collections import Counter\n",
        "from wordcloud import WordCloud\n",
        "from sklearn import preprocessing\n",
        "from sklearn.model_selection import train_test_split\n",
        "from lightgbm import LGBMRegressor\n",
        "from xgboost import XGBRegressor\n",
        "import sklearn.metrics as metrics\n",
        "import math\n",
        "import sweetviz as sv\n",
        "import missingno as msno\n",
        "# 다운받은 csv를 pandas의 DataFrame 형식으로 불러옵니다.\n",
        "data = pd.read_csv('train.csv')\n",
        "\n",
        "data[20:100] # 데이터를 확인합니다."
      ]
    },
    {
      "cell_type": "markdown",
      "source": [
        "# ***데이터 분석하기***"
      ],
      "metadata": {
        "id": "L8FKc_sc_NNk"
      }
    },
    {
      "cell_type": "markdown",
      "source": [
        "## ***그냥 둘러보기***"
      ],
      "metadata": {
        "id": "0wUm2ESmOfIg"
      }
    },
    {
      "cell_type": "code",
      "source": [
        "df_train = data.copy()\n",
        "df_train.info()"
      ],
      "metadata": {
        "colab": {
          "base_uri": "https://localhost:8080/"
        },
        "id": "VWJQtEln-75r",
        "outputId": "b3966b6f-0e2d-4d2d-a231-0035887a5738"
      },
      "execution_count": 5,
      "outputs": [
        {
          "output_type": "stream",
          "name": "stdout",
          "text": [
            "<class 'pandas.core.frame.DataFrame'>\n",
            "RangeIndex: 5000 entries, 0 to 4999\n",
            "Data columns (total 3 columns):\n",
            " #   Column    Non-Null Count  Dtype \n",
            "---  ------    --------------  ----- \n",
            " 0   id        5000 non-null   int64 \n",
            " 1   document  5000 non-null   object\n",
            " 2   label     5000 non-null   int64 \n",
            "dtypes: int64(2), object(1)\n",
            "memory usage: 117.3+ KB\n"
          ]
        }
      ]
    },
    {
      "cell_type": "code",
      "source": [
        "#결측값은 없는지 확인하기\n",
        "for col in df_train.columns:\n",
        "    msg = 'column: {:>20} \\t Percent of NaN value: {:.2f}%'.format(col, 100 * (df_train[col].isnull().sum() / df_train[col].shape[0]))\n",
        "    print(msg)"
      ],
      "metadata": {
        "colab": {
          "base_uri": "https://localhost:8080/"
        },
        "id": "DCLTJhY-OkWU",
        "outputId": "1787ad8f-84f3-4058-a2cb-1598f6f1ffad"
      },
      "execution_count": 6,
      "outputs": [
        {
          "output_type": "stream",
          "name": "stdout",
          "text": [
            "column:                   id \t Percent of NaN value: 0.00%\n",
            "column:             document \t Percent of NaN value: 0.00%\n",
            "column:                label \t Percent of NaN value: 0.00%\n"
          ]
        }
      ]
    },
    {
      "cell_type": "markdown",
      "source": [
        "## ***(문장)끼리 비교해보기***"
      ],
      "metadata": {
        "id": "iYJv7wRcJZf_"
      }
    },
    {
      "cell_type": "code",
      "source": [
        "val_count = data['label'].value_counts() # 유니크값의 개수를 확인합니다.\n",
        "print('라벨 0인 리뷰 개수:', val_count[0])\n",
        "print('라벨 1인 리뷰 개수:', val_count[1])"
      ],
      "metadata": {
        "colab": {
          "base_uri": "https://localhost:8080/"
        },
        "id": "sLNIuS2G-05V",
        "outputId": "5b2c1386-bea5-4aa5-84db-00000a6a6a91"
      },
      "execution_count": 7,
      "outputs": [
        {
          "output_type": "stream",
          "name": "stdout",
          "text": [
            "라벨 0인 리뷰 개수: 2564\n",
            "라벨 1인 리뷰 개수: 2436\n"
          ]
        }
      ]
    },
    {
      "cell_type": "code",
      "source": [
        "len_1 = 0\n",
        "len_0 = 0\n",
        "for i in range(len(df_train)):\n",
        "  str = df_train['document'][i]\n",
        "  if df_train['label'][i] == 1:\n",
        "    len_1 += len(str)\n",
        "  if df_train['label'][i] == 0:\n",
        "    len_0 += len(str)\n",
        "  \n",
        "print(f\"긍정 평가 평균 길이 : {len_1/val_count[1]}\\n부정 평가 평균 길이 : {len_0/val_count[0]}\")"
      ],
      "metadata": {
        "colab": {
          "base_uri": "https://localhost:8080/"
        },
        "id": "l3m0sFCM_c-X",
        "outputId": "b8e2bfd2-e652-4795-ccaa-0bf1cab1bb66"
      },
      "execution_count": 8,
      "outputs": [
        {
          "output_type": "stream",
          "name": "stdout",
          "text": [
            "긍정 평가 평균 길이 : 27.188013136288998\n",
            "부정 평가 평균 길이 : 27.085023400936038\n"
          ]
        }
      ]
    },
    {
      "cell_type": "markdown",
      "source": [
        "##***(단어)의 통계적인 비율 살펴보기***"
      ],
      "metadata": {
        "id": "jMY16wLUHrpZ"
      }
    },
    {
      "cell_type": "code",
      "source": [
        "bad_word = {}\n",
        "bad_num = 0\n",
        "\n",
        "for i in range(5000):\n",
        "  if df_train['label'][i] == 0:\n",
        "    text = df_train['document'][i]\n",
        "    okt = Okt()\n",
        "    noun = okt.nouns(text)\n",
        "    #print(noun)\n",
        "    for i in noun:\n",
        "      if i not in bad_word:\n",
        "        bad_word[i] = 1\n",
        "        bad_num += 1\n",
        "      else:\n",
        "        bad_word[i] += 1\n",
        "        bad_num += 1\n",
        "\n",
        "# lambda x : x[1] \n",
        "d1 = sorted(bad_word.items(), key=lambda x: x[1], reverse=True) \n",
        "#print(d1)\n",
        "for i in range(20):\n",
        "  print(d1[i])\n",
        "print(f\"전체 악평 단어 개수 : {bad_num}\")\n"
      ],
      "metadata": {
        "colab": {
          "base_uri": "https://localhost:8080/"
        },
        "id": "9bOg_2IIAQg6",
        "outputId": "3cad927a-619d-45aa-a799-1b72c86a77c8"
      },
      "execution_count": 13,
      "outputs": [
        {
          "output_type": "stream",
          "name": "stdout",
          "text": [
            "('영화', 754)\n",
            "('이', 143)\n",
            "('진짜', 133)\n",
            "('점', 130)\n",
            "('평점', 119)\n",
            "('왜', 116)\n",
            "('재미', 105)\n",
            "('정말', 104)\n",
            "('스토리', 102)\n",
            "('최악', 98)\n",
            "('시간', 98)\n",
            "('내용', 90)\n",
            "('것', 89)\n",
            "('뭐', 87)\n",
            "('감독', 79)\n",
            "('거', 78)\n",
            "('내', 77)\n",
            "('그냥', 77)\n",
            "('돈', 75)\n",
            "('연기', 73)\n",
            "전체 악평 단어 개수 : 11854\n"
          ]
        }
      ]
    },
    {
      "cell_type": "code",
      "source": [
        "good_word = {}\n",
        "good_num = 0\n",
        "\n",
        "for i in range(5000):\n",
        "  if df_train['label'][i] == 1:\n",
        "    text = df_train['document'][i]\n",
        "    okt = Okt()\n",
        "    noun = okt.nouns(text)\n",
        "    #print(noun)\n",
        "    for i in noun:\n",
        "      if i not in good_word:\n",
        "        good_word[i] = 1\n",
        "        good_num += 1\n",
        "      else:\n",
        "        good_word[i] += 1\n",
        "        good_num += 1\n",
        "\n",
        "# lambda x : x[1] \n",
        "d2 = sorted(good_word.items(), key=lambda x: x[1], reverse=True) \n",
        "for i in range(20):\n",
        "  print(d2[i])\n",
        "print(f\"전체 호평 단어 개수 : {good_num}\")"
      ],
      "metadata": {
        "colab": {
          "base_uri": "https://localhost:8080/"
        },
        "id": "mJNKXZZMDGeI",
        "outputId": "88a27b1e-2070-4fd2-cdfa-df7ae765f802"
      },
      "execution_count": 23,
      "outputs": [
        {
          "output_type": "stream",
          "name": "stdout",
          "text": [
            "('영화', 769)\n",
            "('정말', 216)\n",
            "('최고', 214)\n",
            "('진짜', 136)\n",
            "('감동', 135)\n",
            "('연기', 111)\n",
            "('드라마', 90)\n",
            "('보고', 89)\n",
            "('때', 83)\n",
            "('이', 79)\n",
            "('사랑', 74)\n",
            "('다시', 72)\n",
            "('평점', 67)\n",
            "('점', 67)\n",
            "('것', 66)\n",
            "('생각', 65)\n",
            "('말', 63)\n",
            "('명작', 61)\n",
            "('내', 58)\n",
            "('배우', 58)\n",
            "전체 호평 단어 개수 : 10995\n"
          ]
        }
      ]
    },
    {
      "cell_type": "code",
      "source": [
        "print(f\"부정 단어 가짓수 : {len(d1)}\")\n",
        "print(f\"긍정 단어 가짓수 : {len(d2)}\")"
      ],
      "metadata": {
        "colab": {
          "base_uri": "https://localhost:8080/"
        },
        "id": "o0JlMMDtKK1u",
        "outputId": "5e291691-d86e-444c-cffb-12447a0aac9b"
      },
      "execution_count": 15,
      "outputs": [
        {
          "output_type": "stream",
          "name": "stdout",
          "text": [
            "부정 단어 가짓수 : 3227\n",
            "긍정 단어 가짓수 : 3110\n"
          ]
        }
      ]
    },
    {
      "cell_type": "code",
      "source": [
        "def persent(n, word_num, d):\n",
        "  sum = 0\n",
        "  for i in range(n):\n",
        "    sum += d[i][1]/word_num\n",
        "  print(f\"단어 {n}개 사용했을 때 비율 : {round(sum*100, 2)} %\")"
      ],
      "metadata": {
        "id": "BVvnIfhUKK96"
      },
      "execution_count": null,
      "outputs": []
    },
    {
      "cell_type": "code",
      "source": [
        "print(\"부정 단어\")\n",
        "for i in range(500, 2000, 200):\n",
        "  persent(i, bad_num, d1)\n",
        "print(\"\\n긍정단어\")\n",
        "for i in range(500, 2000, 200):\n",
        "  persent(i, good_num, d2)"
      ],
      "metadata": {
        "colab": {
          "base_uri": "https://localhost:8080/"
        },
        "id": "IYdfUiNFKLBd",
        "outputId": "3d05b501-6043-4a7f-dbed-e6524fc034af"
      },
      "execution_count": null,
      "outputs": [
        {
          "output_type": "stream",
          "name": "stdout",
          "text": [
            "부정 단어\n",
            "단어 500개 사용했을 때 비율 : 68.23 %\n",
            "단어 700개 사용했을 때 비율 : 73.59 %\n",
            "단어 900개 사용했을 때 비율 : 77.42 %\n",
            "단어 1100개 사용했을 때 비율 : 80.79 %\n",
            "단어 1300개 사용했을 때 비율 : 83.74 %\n",
            "단어 1500개 사용했을 때 비율 : 85.43 %\n",
            "단어 1700개 사용했을 때 비율 : 87.12 %\n",
            "단어 1900개 사용했을 때 비율 : 88.81 %\n",
            "\n",
            "긍정단어\n",
            "단어 500개 사용했을 때 비율 : 68.85 %\n",
            "단어 700개 사용했을 때 비율 : 74.08 %\n",
            "단어 900개 사용했을 때 비율 : 77.72 %\n",
            "단어 1100개 사용했을 때 비율 : 81.36 %\n",
            "단어 1300개 사용했을 때 비율 : 83.54 %\n",
            "단어 1500개 사용했을 때 비율 : 85.36 %\n",
            "단어 1700개 사용했을 때 비율 : 87.18 %\n",
            "단어 1900개 사용했을 때 비율 : 88.99 %\n"
          ]
        }
      ]
    },
    {
      "cell_type": "code",
      "source": [
        "#겹치는 단어는 얼마나 있을까?\n",
        "for i in range(1000):\n",
        "  for j in range(1000):\n"
      ],
      "metadata": {
        "id": "YdWN3L7lSm6Y"
      },
      "execution_count": null,
      "outputs": []
    },
    {
      "cell_type": "markdown",
      "source": [
        "### ***단어 목록 살펴보기 (전체 다 보면 수위가 높은 단어들도 많이보인다)***"
      ],
      "metadata": {
        "id": "eUdnXoKxJ7rN"
      }
    },
    {
      "cell_type": "code",
      "source": [
        "for i in range(40):\n",
        "  print(d1[i][0])"
      ],
      "metadata": {
        "colab": {
          "base_uri": "https://localhost:8080/"
        },
        "id": "kzdduwrIG70f",
        "outputId": "63b7fd00-e2ad-4aff-ec52-d982241f10c6"
      },
      "execution_count": 20,
      "outputs": [
        {
          "output_type": "stream",
          "name": "stdout",
          "text": [
            "영화\n",
            "이\n",
            "진짜\n",
            "점\n",
            "평점\n",
            "왜\n",
            "재미\n",
            "정말\n",
            "스토리\n",
            "최악\n",
            "시간\n",
            "내용\n",
            "것\n",
            "뭐\n",
            "감독\n",
            "거\n",
            "내\n",
            "그냥\n",
            "돈\n",
            "연기\n",
            "쓰레기\n",
            "배우\n",
            "좀\n",
            "말\n",
            "이건\n",
            "걸\n",
            "끝\n",
            "별로\n",
            "보고\n",
            "더\n",
            "액션\n",
            "나\n",
            "그\n",
            "하나\n",
            "사람\n",
            "생각\n",
            "완전\n",
            "정도\n",
            "개\n",
            "드라마\n"
          ]
        }
      ]
    },
    {
      "cell_type": "code",
      "source": [
        "for i in range(40):\n",
        "  print(d2[i][0])"
      ],
      "metadata": {
        "colab": {
          "base_uri": "https://localhost:8080/"
        },
        "id": "IR8oUPgnIzyp",
        "outputId": "687ff21e-086d-40c7-d52c-c1901efda3e3"
      },
      "execution_count": 22,
      "outputs": [
        {
          "output_type": "stream",
          "name": "stdout",
          "text": [
            "영화\n",
            "정말\n",
            "최고\n",
            "진짜\n",
            "감동\n",
            "연기\n",
            "드라마\n",
            "보고\n",
            "때\n",
            "이\n",
            "사랑\n",
            "다시\n",
            "평점\n",
            "점\n",
            "것\n",
            "생각\n",
            "말\n",
            "명작\n",
            "내\n",
            "배우\n",
            "수\n",
            "더\n",
            "사람\n",
            "왜\n",
            "완전\n",
            "마지막\n",
            "가슴\n",
            "볼\n",
            "이야기\n",
            "그\n",
            "작품\n",
            "재미\n",
            "또\n",
            "꼭\n",
            "중\n",
            "역시\n",
            "거\n",
            "인생\n",
            "나\n",
            "지금\n"
          ]
        }
      ]
    },
    {
      "cell_type": "markdown",
      "source": [
        "# ***예측해보기***\n"
      ],
      "metadata": {
        "id": "v4Hfiz68O6Id"
      }
    },
    {
      "cell_type": "code",
      "source": [
        ""
      ],
      "metadata": {
        "id": "_9byqikdPINb"
      },
      "execution_count": null,
      "outputs": []
    },
    {
      "cell_type": "code",
      "source": [
        ""
      ],
      "metadata": {
        "id": "qUVVqG21PIZQ"
      },
      "execution_count": null,
      "outputs": []
    },
    {
      "cell_type": "code",
      "source": [
        ""
      ],
      "metadata": {
        "id": "UYshUxvDPIeX"
      },
      "execution_count": null,
      "outputs": []
    },
    {
      "cell_type": "code",
      "source": [
        ""
      ],
      "metadata": {
        "id": "juKBvkizPIhJ"
      },
      "execution_count": null,
      "outputs": []
    },
    {
      "cell_type": "code",
      "source": [
        ""
      ],
      "metadata": {
        "id": "h-gsZV2yPIkJ"
      },
      "execution_count": null,
      "outputs": []
    },
    {
      "cell_type": "code",
      "source": [
        ""
      ],
      "metadata": {
        "id": "HmbvEvx5PImJ"
      },
      "execution_count": null,
      "outputs": []
    },
    {
      "cell_type": "code",
      "source": [
        ""
      ],
      "metadata": {
        "id": "kZj1W0gMPIo-"
      },
      "execution_count": null,
      "outputs": []
    },
    {
      "cell_type": "code",
      "source": [
        ""
      ],
      "metadata": {
        "id": "ZG5t0CDOPIra"
      },
      "execution_count": null,
      "outputs": []
    }
  ]
}